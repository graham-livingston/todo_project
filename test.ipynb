{
 "cells": [
  {
   "cell_type": "code",
   "execution_count": 3,
   "metadata": {},
   "outputs": [],
   "source": [
    "from datetime import datetime\n",
    "x = datetime.now().timestamp()"
   ]
  },
  {
   "cell_type": "code",
   "execution_count": 6,
   "metadata": {},
   "outputs": [],
   "source": [
    "y = datetime.now().timestamp()"
   ]
  },
  {
   "cell_type": "code",
   "execution_count": 7,
   "metadata": {},
   "outputs": [
    {
     "name": "stdout",
     "output_type": "stream",
     "text": [
      "2022-12-07 09:07:43.914262\n"
     ]
    }
   ],
   "source": [
    "# convert time timestamp to datetime\n",
    "readTimex = datetime.fromtimestamp(x)\n",
    "readTimey = datetime.fromtimestamp(y)\n",
    "print(readTimex)"
   ]
  },
  {
   "cell_type": "code",
   "execution_count": 8,
   "metadata": {},
   "outputs": [
    {
     "name": "stdout",
     "output_type": "stream",
     "text": [
      "2022-12-07 09:10:02.764921\n"
     ]
    }
   ],
   "source": [
    "print(readTimey)"
   ]
  },
  {
   "cell_type": "code",
   "execution_count": 14,
   "metadata": {},
   "outputs": [
    {
     "name": "stdout",
     "output_type": "stream",
     "text": [
      "-999999999 days, 0:00:00\n"
     ]
    }
   ],
   "source": [
    "newTime = readTimey - readTimex\n",
    "# newReadTime = datetime.fromtimestamp(newTime)\n",
    "print(newTime.min)"
   ]
  }
 ],
 "metadata": {
  "kernelspec": {
   "display_name": "Python 3.10.8 ('py10')",
   "language": "python",
   "name": "python3"
  },
  "language_info": {
   "codemirror_mode": {
    "name": "ipython",
    "version": 3
   },
   "file_extension": ".py",
   "mimetype": "text/x-python",
   "name": "python",
   "nbconvert_exporter": "python",
   "pygments_lexer": "ipython3",
   "version": "3.10.8"
  },
  "orig_nbformat": 4,
  "vscode": {
   "interpreter": {
    "hash": "daefdb47e550160cfba9b7d5bb9f70bae3ffbd93feb1f6b3da6003a04d9f44f4"
   }
  }
 },
 "nbformat": 4,
 "nbformat_minor": 2
}
